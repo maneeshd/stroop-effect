{
 "cells": [
  {
   "cell_type": "markdown",
   "metadata": {},
   "source": [
    "# Stroop Effect: Test a Perceptual Phenomenon\n",
    "\n",
    "###### by Maneesh Divana for Udacitys Machine Learning Foundation Nanodegree\n",
    "\n",
    "----------"
   ]
  },
  {
   "cell_type": "markdown",
   "metadata": {},
   "source": [
    "### Stroop Effect:\n",
    "\n",
    "In a Stroop task, participants are presented with a list of words, with each word displayed in a color of ink. The participant’s task is to say out loud the color of the ink in which the word is printed. \n",
    "The task has two conditions: \n",
    "\n",
    "1. **Congruent words condition** - words being displayed are color words whose names match the colors in which they are printed: for example <span style=\"color:red\"><em>RED</em></span>, <span style=\"color:blue\"><em>BLUE</em></span>.\n",
    "\n",
    "\n",
    "2. **Incongruent words condition** - words being displayed are color words whose names do not match the colors in which they are printed: for example <span style=\"color:orange\"><em>PURPLE</em></span>, <span style=\"color:purple\"><em>ORANGE</em></span>. \n",
    "\n",
    "In each case, we measure the time it takes to name the ink colors in equally-sized lists. Each participant will go through and record a time from each condition.\n",
    "\n",
    "----------------"
   ]
  },
  {
   "cell_type": "markdown",
   "metadata": {},
   "source": [
    "### Investigation:\n",
    "\n",
    "------------------------"
   ]
  },
  {
   "cell_type": "markdown",
   "metadata": {},
   "source": [
    "#### Q1. What is our independent variable? What is our dependent variable?\n",
    "\n",
    "- **Independent Variable:** It is the variable which is manipulated in the experiment. In this experiment the word-color congruency (Does the name of word corresponds to it's color?) is the independent variable.\n",
    "\n",
    "\n",
    "- **Dependent Variable:** It is the variable which is measured in the experiment. In this experiment the time it takes to identify the word-color congruency/incongruency is the dependent variable.\n",
    "\n",
    "-------------------"
   ]
  },
  {
   "cell_type": "markdown",
   "metadata": {},
   "source": [
    "#### Q2. What is an appropriate set of hypotheses for this task? What kind of statistical test do you expect to perform? Justify your choices.**\n",
    "\n",
    "With null hypothesis(H<sub>0</sub>) we assume that there will be no change. So the null hypothesis here is that the time taken to identify inconguent words is less than or equal to the time taken to identify congruent words.\n",
    "\n",
    "\n",
    "With Alternative hypothesis(H<sub>A</sub>) we write what we think is the actual result of the experiment. So the alternative hypothesis here is that the time taken to identify inconguent words more than the time taken to identify congruent words.\n",
    "\n",
    "So,\n",
    "\n",
    "***H<sub>0</sub>: &mu;<sub>i</sub> ≤ &mu;<sub>c</sub>***\n",
    "  \n",
    "***H<sub>A</sub>: &mu;<sub>i</sub> > &mu;<sub>c</sub>***\n",
    "\n",
    "(where, &mu;<sub>i</sub> => population mean of the time taken for incongruent task & &mu;<sub>c</sub> => population mean of the time taken for congruent task.)\n",
    "\n",
    "\n",
    "\n",
    "**Statistical Test:** *<span style=\"color:green\">Dependent Sample One Tailed t-Test</span>*\n",
    "\n",
    "**Reasons:**\n",
    "- Since the population mean and standard deviation is unknown z-test cannot be used here. \n",
    "- Also since the size of the sample is less than 30, t-test is suitable for this experiment.\n",
    "- This is dependent sample t-test because the same participant is subjected to both the conditions. \n",
    "- It is a one tailed t-test because we clearly mention the direction of the test in the hypothesis.\n",
    "\n",
    "\n",
    "---------------------"
   ]
  },
  {
   "cell_type": "code",
   "execution_count": 1,
   "metadata": {},
   "outputs": [
    {
     "name": "stdout",
     "output_type": "stream",
     "text": [
      "Number of rows in dataframe:\n",
      "Congruent      24\n",
      "Incongruent    24\n",
      "dtype: int64\n"
     ]
    }
   ],
   "source": [
    "# Prepare Dataset\n",
    "%matplotlib inline\n",
    "\n",
    "import pandas as pd\n",
    "import matplotlib.pyplot as plt\n",
    "import numpy as np\n",
    "\n",
    "# Loading dataset\n",
    "stroop_data = pd.read_csv(\"./stroopdata.csv\")\n",
    "count = stroop_data.count()\n",
    "print(f\"Number of rows in dataframe:\\n{count}\")"
   ]
  },
  {
   "cell_type": "code",
   "execution_count": 2,
   "metadata": {},
   "outputs": [
    {
     "name": "stdout",
     "output_type": "stream",
     "text": [
      "Congruent Sample Mean     : 14.051124999999999\n",
      "Congruent Sample Median   : 14.3565\n",
      "Congruent Sample Mode     : 8.63\n",
      "Congruent Sample Variance : 12.669029070652176\n",
      "Congruent Sample Stdev    : 3.5593579576451955\n",
      "\n",
      "Incongruent Sample Mean     : 22.015916666666666\n",
      "Incongruent Sample Median   : 21.0175\n",
      "Incongruent Sample Mode     : 15.687000000000001\n",
      "Incongruent Sample Variance : 23.011757036231884\n",
      "Incongruent Sample Stdev    : 4.797057122469138\n"
     ]
    }
   ],
   "source": [
    "# Finding statistics\n",
    "congruent_series = stroop_data[\"Congruent\"]\n",
    "incongruent_series = stroop_data[\"Incongruent\"]\n",
    "\n",
    "print(f\"Congruent Sample Mean     : {congruent_series.mean()}\")\n",
    "print(f\"Congruent Sample Median   : {congruent_series.median()}\")\n",
    "print(f\"Congruent Sample Mode     : {congruent_series.mode()[0]}\")\n",
    "print(f\"Congruent Sample Variance : {congruent_series.var()}\")\n",
    "print(f\"Congruent Sample Stdev    : {congruent_series.std()}\")    # Normalized by N-1 by default\n",
    "print(\"\")\n",
    "print(f\"Incongruent Sample Mean     : {incongruent_series.mean()}\")\n",
    "print(f\"Incongruent Sample Median   : {incongruent_series.median()}\")\n",
    "print(f\"Incongruent Sample Mode     : {incongruent_series.mode()[0]}\")\n",
    "print(f\"Incongruent Sample Variance : {incongruent_series.var()}\")\n",
    "print(f\"Incongruent Sample Stdev    : {incongruent_series.std()}\")    # Normalized by N-1 by default"
   ]
  },
  {
   "cell_type": "markdown",
   "metadata": {},
   "source": [
    "-------------\n",
    "\n",
    "#### Q3. Report some descriptive statistics regarding this dataset. Include at least one measure of central tendency and at least one measure of variability.\n",
    "\n",
    "***Mesaures of Central Tendency:***\n",
    "\n",
    "- Congruent Condition Sample Median = 14.357\n",
    "\n",
    "- Incongruent Condition Sample Median = 21.018\n",
    "\n",
    "- Congruent Condition Sample Mean (**x&#x0304;<sub>c</sub>**) = 14.051\n",
    "\n",
    "- Incongruent Condition Sample Mean (**x&#x0304;<sub>i</sub>**) = 22.016\n",
    "\n",
    "***Measures of Variability:***\n",
    "\n",
    "- Congruent Condition Sample Variance = 12.669\n",
    "\n",
    "- Incongruent Condition Sample Variance = 23.012\n",
    "\n",
    "- Congruent Condition Sample Standard Deviation (**S<sub>c</sub>**) = 3.559\n",
    "\n",
    "- Incongruent Condition Sample Standard Deviation (**S<sub>i</sub>**) = 4.797\n",
    "\n",
    "***Sample Size = 24***\n",
    "\n",
    "--------------------"
   ]
  },
  {
   "cell_type": "markdown",
   "metadata": {},
   "source": [
    "#### 4. Provide one or two visualizations that show the distribution of the sample data. Write one or two sentences noting what you observe about the plot or plots.\n",
    "\n",
    "***Observations:***\n",
    "\n",
    "- From the box-plot, we can see that there are 2 outliers which would skew the true mean of incongruent values hence moving the distribtion slightly to right.\n",
    "\n",
    "\n",
    "- From the histograms, we can see that both the distributions are almost positively skewed, the mean is close to the mode and median indicating a normal distribution. Also the outliers can be seen in the incongruent condition histogram which might affect the sampling mean and skew it a little to right.\n",
    "\n",
    "\n",
    "- Hence, sampling mean would be almost equal to the population mean.\n",
    "\n",
    "\n",
    "- From the line graph we can see that the times for incongruent condition are larger than congruent condtions for the same person.\n",
    "\n",
    "\n",
    "Below are the histograms and box-plot of the congruent and incongruent sample data."
   ]
  },
  {
   "cell_type": "markdown",
   "metadata": {},
   "source": [
    "*Histograms:*"
   ]
  },
  {
   "cell_type": "code",
   "execution_count": 3,
   "metadata": {},
   "outputs": [
    {
     "data": {
      "text/plain": [
       "Text(0.5,1.05,'Histogram of Sample Data')"
      ]
     },
     "execution_count": 3,
     "metadata": {},
     "output_type": "execute_result"
    },
    {
     "data": {
      "image/png": "[encoded data removed]",
      "text/plain": [
       "<Figure size 1080x360 with 2 Axes>"
      ]
     },
     "metadata": {},
     "output_type": "display_data"
    }
   ],
   "source": [
    "# set up figure & axes\n",
    "fig, axes = plt.subplots(1, 2)\n",
    "\n",
    "# drop sharex, sharey, layout & add ax=axes\n",
    "axes[0].set_title('Congruent', ha='center')\n",
    "axes[1].set_title('Incongruent', ha='center')\n",
    "axes[0].set_xlabel(\"Time Taken\")\n",
    "axes[1].set_xlabel(\"Time Taken\")\n",
    "congruent_series.hist(ax=axes[0], figsize=[15,5])\n",
    "incongruent_series.hist(ax=axes[1], figsize=[15,5])\n",
    "\n",
    "# set title\n",
    "plt.suptitle('Histogram of Sample Data', x=0.5, y=1.05, ha='center', fontsize='xx-large')"
   ]
  },
  {
   "cell_type": "code",
   "execution_count": 4,
   "metadata": {},
   "outputs": [
    {
     "data": {
      "text/plain": [
       "<matplotlib.axes._subplots.AxesSubplot at 0x24e6673e710>"
      ]
     },
     "execution_count": 4,
     "metadata": {},
     "output_type": "execute_result"
    },
    {
     "data": {
      "image/png": "[encoded data removed]",
      "text/plain": [
       "<Figure size 504x360 with 1 Axes>"
      ]
     },
     "metadata": {},
     "output_type": "display_data"
    }
   ],
   "source": [
    "# Box Plot of the data\n",
    "stroop_data.boxplot(figsize=[7,5])"
   ]
  },
  {
   "cell_type": "code",
   "execution_count": 5,
   "metadata": {},
   "outputs": [
    {
     "data": {
      "text/plain": [
       "Text(0,0.5,'Time Taken')"
      ]
     },
     "execution_count": 5,
     "metadata": {},
     "output_type": "execute_result"
    },
    {
     "data": {
      "image/png": "[encoded data removed]",
      "text/plain": [
       "<Figure size 1080x360 with 1 Axes>"
      ]
     },
     "metadata": {},
     "output_type": "display_data"
    }
   ],
   "source": [
    "xticks = [i for i in range(1, 26)]\n",
    "yticks = [i for i in range(0, 36, 5) ]\n",
    "axes = stroop_data.plot.line(figsize=[15,5], \n",
    "                             title='Time Graph for Congruent vs Incongurent',\n",
    "                             xticks=xticks, \n",
    "                             yticks=yticks)\n",
    "\n",
    "axes.set_xlabel(\"Participant\")\n",
    "axes.set_ylabel(\"Time Taken\")"
   ]
  },
  {
   "cell_type": "markdown",
   "metadata": {},
   "source": [
    "---------------------------\n",
    "\n",
    "#### 5. Now, perform the statistical test and report your results. What is your confidence level and your critical statistic value? Do you reject the null hypothesis or fail to reject it? Come to a conclusion in terms of the experiment task. Did the results match up with your expectations?\n",
    "\n",
    "*Lets now perform our one-tailed dependent t-test:*\n",
    "\n",
    "- Congruent Condition Sample Mean (**X&#x0304;<sub>c</sub>**) = 14.051\n",
    "\n",
    "\n",
    "- Incongruent Condition Sample Mean (**X&#x0304;<sub>i</sub>**) = 22.016\n",
    "\n",
    "\n",
    "- Congruent Condition Sample Standard Deviation (**S<sub>c</sub>**) = 3.559\n",
    "\n",
    "\n",
    "- Incongruent Condition Sample Standard Deviation (**S<sub>i</sub>**) = 4.797\n",
    "\n",
    "\n",
    "- **n = 24**\n",
    "\n",
    "\n",
    "We will calculate **t<sub>critical</sub>** & **t<sub>statistic</sub>** for a Confidence Level of 95%. \n",
    "\n",
    "So, **$\\alpha$ = 0.05** with **Degree of freedom (df) = $n - 1$ = 23**\n",
    "\n",
    "- **t<sub>critical</sub> = 1.714** for $\\alpha$=0.05 and df=23\n",
    "\n",
    "\n",
    "- Sampling Mean Difference (**X&#x0304;<sub>D</sub>**) = (**X&#x0304;<sub>i</sub>**) - (**X&#x0304;<sub>c</sub>**) = 22.016 - 14.051 = **7.965**\n",
    "\n",
    "\n",
    "- Standard Deviation of Mean Difference (**S<sub>D</sub>**) = **4.865**\n",
    "\n",
    "\n",
    "- Standard Error of Mean Difference (**SEM**) = **$\\frac{S_{\\text{D}}}{\\sqrt{n}}$** = **$\\frac{4.865}{\\sqrt{24}}$** = **$\\frac{4.865}{4.9}$** = **0.993**\n",
    "\n",
    "\n",
    "- **t<sub>statistic</sub>** = **$\\frac{X_{\\text{D}}}{\\frac{S_{\\text{D}}}{\\sqrt{n}}}$** = **$\\frac{X_{\\text{D}}}{SEM}$** = **$\\frac{7.965}{0.993}$** = **8.021**\n",
    "\n",
    "**Result:**\n",
    "\n",
    "**Since the t<sub>statistic</sub> (=8.0210) is greater than our t<sub>critical</sub> (=1.714), we reject the null hypothesis and our our alternative hypothesis hold true.**\n",
    "\n",
    "**Hence we can conclude that participants take significantly more time to respond in the Incongruent condition task.**\n",
    "\n",
    "**The p-value is < .00001.**"
   ]
  },
  {
   "cell_type": "markdown",
   "metadata": {},
   "source": [
    "--------\n",
    "***Calculations***"
   ]
  },
  {
   "cell_type": "code",
   "execution_count": 6,
   "metadata": {},
   "outputs": [
    {
     "data": {
      "text/html": [
       "<div>\n",
       "<style scoped>\n",
       "    .dataframe tbody tr th:only-of-type {\n",
       "        vertical-align: middle;\n",
       "    }\n",
       "\n",
       "    .dataframe tbody tr th {\n",
       "        vertical-align: top;\n",
       "    }\n",
       "\n",
       "    .dataframe thead th {\n",
       "        text-align: right;\n",
       "    }\n",
       "</style>\n",
       "<table border=\"1\" class=\"dataframe\">\n",
       "  <thead>\n",
       "    <tr style=\"text-align: right;\">\n",
       "      <th></th>\n",
       "      <th>Congruent</th>\n",
       "      <th>Incongruent</th>\n",
       "      <th>Difference</th>\n",
       "      <th>Mean Difference</th>\n",
       "      <th>Stdev Difference</th>\n",
       "    </tr>\n",
       "  </thead>\n",
       "  <tbody>\n",
       "    <tr>\n",
       "      <th>0</th>\n",
       "      <td>12.079</td>\n",
       "      <td>19.278</td>\n",
       "      <td>7.199</td>\n",
       "      <td>7.964792</td>\n",
       "      <td>4.864827</td>\n",
       "    </tr>\n",
       "    <tr>\n",
       "      <th>1</th>\n",
       "      <td>16.791</td>\n",
       "      <td>18.741</td>\n",
       "      <td>1.950</td>\n",
       "      <td>NaN</td>\n",
       "      <td>NaN</td>\n",
       "    </tr>\n",
       "    <tr>\n",
       "      <th>2</th>\n",
       "      <td>9.564</td>\n",
       "      <td>21.214</td>\n",
       "      <td>11.650</td>\n",
       "      <td>NaN</td>\n",
       "      <td>NaN</td>\n",
       "    </tr>\n",
       "    <tr>\n",
       "      <th>3</th>\n",
       "      <td>8.630</td>\n",
       "      <td>15.687</td>\n",
       "      <td>7.057</td>\n",
       "      <td>NaN</td>\n",
       "      <td>NaN</td>\n",
       "    </tr>\n",
       "    <tr>\n",
       "      <th>4</th>\n",
       "      <td>14.669</td>\n",
       "      <td>22.803</td>\n",
       "      <td>8.134</td>\n",
       "      <td>NaN</td>\n",
       "      <td>NaN</td>\n",
       "    </tr>\n",
       "    <tr>\n",
       "      <th>5</th>\n",
       "      <td>12.238</td>\n",
       "      <td>20.878</td>\n",
       "      <td>8.640</td>\n",
       "      <td>NaN</td>\n",
       "      <td>NaN</td>\n",
       "    </tr>\n",
       "    <tr>\n",
       "      <th>6</th>\n",
       "      <td>14.692</td>\n",
       "      <td>24.572</td>\n",
       "      <td>9.880</td>\n",
       "      <td>NaN</td>\n",
       "      <td>NaN</td>\n",
       "    </tr>\n",
       "    <tr>\n",
       "      <th>7</th>\n",
       "      <td>8.987</td>\n",
       "      <td>17.394</td>\n",
       "      <td>8.407</td>\n",
       "      <td>NaN</td>\n",
       "      <td>NaN</td>\n",
       "    </tr>\n",
       "    <tr>\n",
       "      <th>8</th>\n",
       "      <td>9.401</td>\n",
       "      <td>20.762</td>\n",
       "      <td>11.361</td>\n",
       "      <td>NaN</td>\n",
       "      <td>NaN</td>\n",
       "    </tr>\n",
       "    <tr>\n",
       "      <th>9</th>\n",
       "      <td>14.480</td>\n",
       "      <td>26.282</td>\n",
       "      <td>11.802</td>\n",
       "      <td>NaN</td>\n",
       "      <td>NaN</td>\n",
       "    </tr>\n",
       "    <tr>\n",
       "      <th>10</th>\n",
       "      <td>22.328</td>\n",
       "      <td>24.524</td>\n",
       "      <td>2.196</td>\n",
       "      <td>NaN</td>\n",
       "      <td>NaN</td>\n",
       "    </tr>\n",
       "    <tr>\n",
       "      <th>11</th>\n",
       "      <td>15.298</td>\n",
       "      <td>18.644</td>\n",
       "      <td>3.346</td>\n",
       "      <td>NaN</td>\n",
       "      <td>NaN</td>\n",
       "    </tr>\n",
       "    <tr>\n",
       "      <th>12</th>\n",
       "      <td>15.073</td>\n",
       "      <td>17.510</td>\n",
       "      <td>2.437</td>\n",
       "      <td>NaN</td>\n",
       "      <td>NaN</td>\n",
       "    </tr>\n",
       "    <tr>\n",
       "      <th>13</th>\n",
       "      <td>16.929</td>\n",
       "      <td>20.330</td>\n",
       "      <td>3.401</td>\n",
       "      <td>NaN</td>\n",
       "      <td>NaN</td>\n",
       "    </tr>\n",
       "    <tr>\n",
       "      <th>14</th>\n",
       "      <td>18.200</td>\n",
       "      <td>35.255</td>\n",
       "      <td>17.055</td>\n",
       "      <td>NaN</td>\n",
       "      <td>NaN</td>\n",
       "    </tr>\n",
       "    <tr>\n",
       "      <th>15</th>\n",
       "      <td>12.130</td>\n",
       "      <td>22.158</td>\n",
       "      <td>10.028</td>\n",
       "      <td>NaN</td>\n",
       "      <td>NaN</td>\n",
       "    </tr>\n",
       "    <tr>\n",
       "      <th>16</th>\n",
       "      <td>18.495</td>\n",
       "      <td>25.139</td>\n",
       "      <td>6.644</td>\n",
       "      <td>NaN</td>\n",
       "      <td>NaN</td>\n",
       "    </tr>\n",
       "    <tr>\n",
       "      <th>17</th>\n",
       "      <td>10.639</td>\n",
       "      <td>20.429</td>\n",
       "      <td>9.790</td>\n",
       "      <td>NaN</td>\n",
       "      <td>NaN</td>\n",
       "    </tr>\n",
       "    <tr>\n",
       "      <th>18</th>\n",
       "      <td>11.344</td>\n",
       "      <td>17.425</td>\n",
       "      <td>6.081</td>\n",
       "      <td>NaN</td>\n",
       "      <td>NaN</td>\n",
       "    </tr>\n",
       "    <tr>\n",
       "      <th>19</th>\n",
       "      <td>12.369</td>\n",
       "      <td>34.288</td>\n",
       "      <td>21.919</td>\n",
       "      <td>NaN</td>\n",
       "      <td>NaN</td>\n",
       "    </tr>\n",
       "    <tr>\n",
       "      <th>20</th>\n",
       "      <td>12.944</td>\n",
       "      <td>23.894</td>\n",
       "      <td>10.950</td>\n",
       "      <td>NaN</td>\n",
       "      <td>NaN</td>\n",
       "    </tr>\n",
       "    <tr>\n",
       "      <th>21</th>\n",
       "      <td>14.233</td>\n",
       "      <td>17.960</td>\n",
       "      <td>3.727</td>\n",
       "      <td>NaN</td>\n",
       "      <td>NaN</td>\n",
       "    </tr>\n",
       "    <tr>\n",
       "      <th>22</th>\n",
       "      <td>19.710</td>\n",
       "      <td>22.058</td>\n",
       "      <td>2.348</td>\n",
       "      <td>NaN</td>\n",
       "      <td>NaN</td>\n",
       "    </tr>\n",
       "    <tr>\n",
       "      <th>23</th>\n",
       "      <td>16.004</td>\n",
       "      <td>21.157</td>\n",
       "      <td>5.153</td>\n",
       "      <td>NaN</td>\n",
       "      <td>NaN</td>\n",
       "    </tr>\n",
       "  </tbody>\n",
       "</table>\n",
       "</div>"
      ],
      "text/plain": [
       "    Congruent  Incongruent  Difference  Mean Difference  Stdev Difference\n",
       "0      12.079       19.278       7.199         7.964792          4.864827\n",
       "1      16.791       18.741       1.950              NaN               NaN\n",
       "2       9.564       21.214      11.650              NaN               NaN\n",
       "3       8.630       15.687       7.057              NaN               NaN\n",
       "4      14.669       22.803       8.134              NaN               NaN\n",
       "5      12.238       20.878       8.640              NaN               NaN\n",
       "6      14.692       24.572       9.880              NaN               NaN\n",
       "7       8.987       17.394       8.407              NaN               NaN\n",
       "8       9.401       20.762      11.361              NaN               NaN\n",
       "9      14.480       26.282      11.802              NaN               NaN\n",
       "10     22.328       24.524       2.196              NaN               NaN\n",
       "11     15.298       18.644       3.346              NaN               NaN\n",
       "12     15.073       17.510       2.437              NaN               NaN\n",
       "13     16.929       20.330       3.401              NaN               NaN\n",
       "14     18.200       35.255      17.055              NaN               NaN\n",
       "15     12.130       22.158      10.028              NaN               NaN\n",
       "16     18.495       25.139       6.644              NaN               NaN\n",
       "17     10.639       20.429       9.790              NaN               NaN\n",
       "18     11.344       17.425       6.081              NaN               NaN\n",
       "19     12.369       34.288      21.919              NaN               NaN\n",
       "20     12.944       23.894      10.950              NaN               NaN\n",
       "21     14.233       17.960       3.727              NaN               NaN\n",
       "22     19.710       22.058       2.348              NaN               NaN\n",
       "23     16.004       21.157       5.153              NaN               NaN"
      ]
     },
     "execution_count": 6,
     "metadata": {},
     "output_type": "execute_result"
    }
   ],
   "source": [
    "new_stroop_data = stroop_data.copy()\n",
    "new_stroop_data[\"Difference\"] = new_stroop_data[\"Incongruent\"] - new_stroop_data[\"Congruent\"]\n",
    "new_stroop_data[\"Mean Difference\"] = np.nan\n",
    "new_stroop_data[\"Stdev Difference\"] = np.nan\n",
    "new_stroop_data.at[0, \"Mean Difference\"] = new_stroop_data[\"Difference\"].mean()\n",
    "new_stroop_data.at[0, \"Stdev Difference\"] = new_stroop_data[\"Difference\"].std()\n",
    "new_stroop_data"
   ]
  },
  {
   "cell_type": "markdown",
   "metadata": {},
   "source": [
    "----------\n",
    "\n",
    "#### 6. Optional: What do you think is responsible for the effects observed? Can you think of an alternative or similar task that would result in a similar effect? Some research about the problem will be helpful for thinking about these two questions!\n",
    "\n",
    "**Reason for the effects observed:** One possible reason might be that the brain develops a pattern from the congruent task where the name of the color and the word are the same and then the brain tries to find the same pattern and take more time to process the word-color mismatch in the incongruent task.\n",
    "\n",
    "\n",
    "**Alternative/Similar Task:** An experiment to measure the speed of typing using QUERTY keyboard & typing using DVORAK keyboard. This will test the explanation that people (their brain to be precise) tend to develop a pattern to do certain tasks and in this case it's people typing in QWERTY keyboards. When this pattern is broken by making them use a DVORAK keyboard, they would take more time to type a given paragraph.\n",
    "\n",
    "----------"
   ]
  },
  {
   "cell_type": "markdown",
   "metadata": {},
   "source": [
    "### References\n",
    "\n",
    "\n",
    "+ [Quick Steps and Explanations of topics in Statistics](http://www.statisticshowto.com/)\n",
    "\n",
    "\n",
    "+ [Socscistatistics for calculating p-value](http://www.socscistatistics.com/pvalues/tdistribution.aspx)\n",
    "\n",
    "\n",
    "+ [Jupyter Notebook Markdown & LaTeX Documnetation](https://jupyter-notebook.readthedocs.io/en/stable/examples/Notebook/Working%20With%20Markdown%20Cells.html)\n",
    "\n",
    "\n",
    "+ [Pandas Documentation](https://pandas.pydata.org/pandas-docs/stable/)\n",
    "\n",
    "----------------------"
   ]
  }
 ],
 "metadata": {
  "kernelspec": {
   "display_name": "Python 3",
   "language": "python",
   "name": "python3"
  },
  "language_info": {
   "codemirror_mode": {
    "name": "ipython",
    "version": 3
   },
   "file_extension": ".py",
   "mimetype": "text/x-python",
   "name": "python",
   "nbconvert_exporter": "python",
   "pygments_lexer": "ipython3",
   "version": "3.6.5"
  }
 },
 "nbformat": 4,
 "nbformat_minor": 2
}
